{
  "nbformat": 4,
  "nbformat_minor": 0,
  "metadata": {
    "colab": {
      "provenance": [],
      "authorship_tag": "ABX9TyPGxmofgR8DMUeu6gV7P9ZB",
      "include_colab_link": true
    },
    "kernelspec": {
      "name": "python3",
      "display_name": "Python 3"
    },
    "language_info": {
      "name": "python"
    }
  },
  "cells": [
    {
      "cell_type": "markdown",
      "metadata": {
        "id": "view-in-github",
        "colab_type": "text"
      },
      "source": [
        "<a href=\"https://colab.research.google.com/github/Dhanalakshmisaladi/HTML/blob/main/CNN_COMBINED.ipynb\" target=\"_parent\"><img src=\"https://colab.research.google.com/assets/colab-badge.svg\" alt=\"Open In Colab\"/></a>"
      ]
    },
    {
      "cell_type": "code",
      "source": [
        "from google.colab import drive\n",
        "drive.mount('/content/drive', force_remount=True)\n"
      ],
      "metadata": {
        "colab": {
          "base_uri": "https://localhost:8080/"
        },
        "id": "iA2L8Kc8mSxb",
        "outputId": "5391eef3-7f51-4a1c-e31e-8b25c205704e"
      },
      "execution_count": null,
      "outputs": [
        {
          "output_type": "stream",
          "name": "stdout",
          "text": [
            "Mounted at /content/drive\n"
          ]
        }
      ]
    },
    {
      "cell_type": "code",
      "source": [],
      "metadata": {
        "id": "pwx7H9h_cj-L"
      },
      "execution_count": null,
      "outputs": []
    },
    {
      "cell_type": "code",
      "source": [
        "from google.colab import drive\n",
        "drive.flush_and_unmount()"
      ],
      "metadata": {
        "id": "PmbCR6RQmeXa"
      },
      "execution_count": null,
      "outputs": []
    },
    {
      "cell_type": "code",
      "source": [
        "import matplotlib.pyplot as plt\n",
        "import numpy as np\n",
        "import os\n",
        "import shutil\n",
        "from tensorflow import keras\n",
        "import seaborn as sns\n",
        "import random\n",
        "from keras.models import load_model\n",
        "from keras.preprocessing import image\n",
        "from tensorflow.keras.preprocessing.image import load_img, img_to_array"
      ],
      "metadata": {
        "id": "h5A18Mslmmn0"
      },
      "execution_count": null,
      "outputs": []
    },
    {
      "cell_type": "code",
      "source": [
        "current_dir = os.getcwd()\n",
        "print(current_dir)\n"
      ],
      "metadata": {
        "colab": {
          "base_uri": "https://localhost:8080/"
        },
        "id": "Wld1QZkEmugs",
        "outputId": "b32529e1-c359-4132-b01a-854e21db5d45"
      },
      "execution_count": null,
      "outputs": [
        {
          "output_type": "stream",
          "name": "stdout",
          "text": [
            "/content\n"
          ]
        }
      ]
    },
    {
      "cell_type": "code",
      "source": [
        "dristhi_dir = current_dir + '/drive/MyDrive/datasets/Dristhi/'\n",
        "train_glaucoma_dir = dristhi_dir + \"Training/Images/GLAUCOMA\"\n",
        "train_normal_dir = dristhi_dir + \"Training/Images/NORMAL\"\n",
        "test_glaucoma_dir = dristhi_dir + \"Test/Images/glaucoma\"\n",
        "test_normal_dir = dristhi_dir + \"Test/Images/normal\"\n",
        "dristhi_glaucoma_images = os.listdir(train_glaucoma_dir)+os.listdir(test_glaucoma_dir)\n",
        "dristhi_normal_images = os.listdir(train_normal_dir)+os.listdir(test_normal_dir)\n",
        "\n",
        "# Look at the number of samples in each dataset\n",
        "print(\"Dristhi dataset contains :\")\n",
        "print(f\"\\t{len(dristhi_glaucoma_images)} images representing an eye with glaucoma\")\n",
        "print(f\"\\t{len(dristhi_normal_images)} images representing a normal eye\")\n"
      ],
      "metadata": {
        "colab": {
          "base_uri": "https://localhost:8080/"
        },
        "id": "BLvri5JGm0tV",
        "outputId": "9ce90920-5d3c-49f8-96a0-e37fee69ace9"
      },
      "execution_count": null,
      "outputs": [
        {
          "output_type": "error",
          "ename": "NameError",
          "evalue": "name 'current_dir' is not defined",
          "traceback": [
            "\u001b[0;31m---------------------------------------------------------------------------\u001b[0m",
            "\u001b[0;31mNameError\u001b[0m                                 Traceback (most recent call last)",
            "\u001b[0;32m<ipython-input-1-6bd1c74e5909>\u001b[0m in \u001b[0;36m<cell line: 0>\u001b[0;34m()\u001b[0m\n\u001b[0;32m----> 1\u001b[0;31m \u001b[0mdristhi_dir\u001b[0m \u001b[0;34m=\u001b[0m \u001b[0mcurrent_dir\u001b[0m \u001b[0;34m+\u001b[0m \u001b[0;34m'/drive/MyDrive/datasets/Dristhi/'\u001b[0m\u001b[0;34m\u001b[0m\u001b[0;34m\u001b[0m\u001b[0m\n\u001b[0m\u001b[1;32m      2\u001b[0m \u001b[0mtrain_glaucoma_dir\u001b[0m \u001b[0;34m=\u001b[0m \u001b[0mdristhi_dir\u001b[0m \u001b[0;34m+\u001b[0m \u001b[0;34m\"Training/Images/GLAUCOMA\"\u001b[0m\u001b[0;34m\u001b[0m\u001b[0;34m\u001b[0m\u001b[0m\n\u001b[1;32m      3\u001b[0m \u001b[0mtrain_normal_dir\u001b[0m \u001b[0;34m=\u001b[0m \u001b[0mdristhi_dir\u001b[0m \u001b[0;34m+\u001b[0m \u001b[0;34m\"Training/Images/NORMAL\"\u001b[0m\u001b[0;34m\u001b[0m\u001b[0;34m\u001b[0m\u001b[0m\n\u001b[1;32m      4\u001b[0m \u001b[0mtest_glaucoma_dir\u001b[0m \u001b[0;34m=\u001b[0m \u001b[0mdristhi_dir\u001b[0m \u001b[0;34m+\u001b[0m \u001b[0;34m\"Test/Images/glaucoma\"\u001b[0m\u001b[0;34m\u001b[0m\u001b[0;34m\u001b[0m\u001b[0m\n\u001b[1;32m      5\u001b[0m \u001b[0mtest_normal_dir\u001b[0m \u001b[0;34m=\u001b[0m \u001b[0mdristhi_dir\u001b[0m \u001b[0;34m+\u001b[0m \u001b[0;34m\"Test/Images/normal\"\u001b[0m\u001b[0;34m\u001b[0m\u001b[0;34m\u001b[0m\u001b[0m\n",
            "\u001b[0;31mNameError\u001b[0m: name 'current_dir' is not defined"
          ]
        }
      ]
    },
    {
      "cell_type": "code",
      "source": [
        "print(\"Sample Dristhi glaucoma images:\")\n",
        "plt.subplots(figsize=(15, 10))\n",
        "for i in range(1, 5):\n",
        "    plt.subplot(1, 4, i)\n",
        "    plt.imshow(load_img(f\"{os.path.join(train_glaucoma_dir, dristhi_glaucoma_images[i - 1])}\"))\n",
        "plt.show()\n",
        "\n",
        "print(\"\\nSample Dristhi normal images:\")\n",
        "plt.subplots(figsize=(15, 10))\n",
        "for i in range(1, 5):\n",
        "    plt.subplot(1, 4, i)\n",
        "    plt.imshow(load_img(f\"{os.path.join(train_normal_dir, dristhi_normal_images[i - 1])}\"))\n",
        "plt.show()"
      ],
      "metadata": {
        "colab": {
          "base_uri": "https://localhost:8080/",
          "height": 228
        },
        "id": "BHDJWBJLcmKP",
        "outputId": "a4a4ef73-d020-47ee-a73f-18bd32bd88ab"
      },
      "execution_count": 1,
      "outputs": [
        {
          "output_type": "stream",
          "name": "stdout",
          "text": [
            "Sample Dristhi glaucoma images:\n"
          ]
        },
        {
          "output_type": "error",
          "ename": "NameError",
          "evalue": "name 'plt' is not defined",
          "traceback": [
            "\u001b[0;31m---------------------------------------------------------------------------\u001b[0m",
            "\u001b[0;31mNameError\u001b[0m                                 Traceback (most recent call last)",
            "\u001b[0;32m<ipython-input-1-567d2ce37237>\u001b[0m in \u001b[0;36m<cell line: 0>\u001b[0;34m()\u001b[0m\n\u001b[1;32m      1\u001b[0m \u001b[0mprint\u001b[0m\u001b[0;34m(\u001b[0m\u001b[0;34m\"Sample Dristhi glaucoma images:\"\u001b[0m\u001b[0;34m)\u001b[0m\u001b[0;34m\u001b[0m\u001b[0;34m\u001b[0m\u001b[0m\n\u001b[0;32m----> 2\u001b[0;31m \u001b[0mplt\u001b[0m\u001b[0;34m.\u001b[0m\u001b[0msubplots\u001b[0m\u001b[0;34m(\u001b[0m\u001b[0mfigsize\u001b[0m\u001b[0;34m=\u001b[0m\u001b[0;34m(\u001b[0m\u001b[0;36m15\u001b[0m\u001b[0;34m,\u001b[0m \u001b[0;36m10\u001b[0m\u001b[0;34m)\u001b[0m\u001b[0;34m)\u001b[0m\u001b[0;34m\u001b[0m\u001b[0;34m\u001b[0m\u001b[0m\n\u001b[0m\u001b[1;32m      3\u001b[0m \u001b[0;32mfor\u001b[0m \u001b[0mi\u001b[0m \u001b[0;32min\u001b[0m \u001b[0mrange\u001b[0m\u001b[0;34m(\u001b[0m\u001b[0;36m1\u001b[0m\u001b[0;34m,\u001b[0m \u001b[0;36m5\u001b[0m\u001b[0;34m)\u001b[0m\u001b[0;34m:\u001b[0m\u001b[0;34m\u001b[0m\u001b[0;34m\u001b[0m\u001b[0m\n\u001b[1;32m      4\u001b[0m     \u001b[0mplt\u001b[0m\u001b[0;34m.\u001b[0m\u001b[0msubplot\u001b[0m\u001b[0;34m(\u001b[0m\u001b[0;36m1\u001b[0m\u001b[0;34m,\u001b[0m \u001b[0;36m4\u001b[0m\u001b[0;34m,\u001b[0m \u001b[0mi\u001b[0m\u001b[0;34m)\u001b[0m\u001b[0;34m\u001b[0m\u001b[0;34m\u001b[0m\u001b[0m\n\u001b[1;32m      5\u001b[0m     \u001b[0mplt\u001b[0m\u001b[0;34m.\u001b[0m\u001b[0mimshow\u001b[0m\u001b[0;34m(\u001b[0m\u001b[0mload_img\u001b[0m\u001b[0;34m(\u001b[0m\u001b[0;34mf\"{os.path.join(train_glaucoma_dir, dristhi_glaucoma_images[i - 1])}\"\u001b[0m\u001b[0;34m)\u001b[0m\u001b[0;34m)\u001b[0m\u001b[0;34m\u001b[0m\u001b[0;34m\u001b[0m\u001b[0m\n",
            "\u001b[0;31mNameError\u001b[0m: name 'plt' is not defined"
          ]
        }
      ]
    },
    {
      "cell_type": "code",
      "source": [
        "rimOne_dir = current_dir + '/drive/MyDrive/datasets/RIM-ONE_DL_images/partitioned_randomly/'\n",
        "train_glaucoma_dir = rimOne_dir + \"training_set/glaucoma\"\n",
        "train_normal_dir = rimOne_dir + \"training_set/normal\"\n",
        "test_glaucoma_dir = rimOne_dir + \"test_set/glaucoma\"\n",
        "test_normal_dir = rimOne_dir + \"test_set/normal\"\n",
        "rimOne_glaucoma_images = os.listdir(train_glaucoma_dir)+os.listdir(test_glaucoma_dir)\n",
        "rimOne_normal_images = os.listdir(train_normal_dir)+os.listdir(test_normal_dir)\n",
        "\n",
        "# Look at the number of samples in each dataset\n",
        "print(\"Rim One dataset contains :\")\n",
        "print(f\"\\t{len(rimOne_glaucoma_images)} images representing an eye with glaucoma\")\n",
        "print(f\"\\t{len(rimOne_normal_images)} images representing a normal eye\")\n"
      ],
      "metadata": {
        "colab": {
          "base_uri": "https://localhost:8080/",
          "height": 211
        },
        "id": "aC5lxHn5cxFP",
        "outputId": "f722946a-6bda-4e95-fe00-6d6f26ab1b8e"
      },
      "execution_count": 2,
      "outputs": [
        {
          "output_type": "error",
          "ename": "NameError",
          "evalue": "name 'current_dir' is not defined",
          "traceback": [
            "\u001b[0;31m---------------------------------------------------------------------------\u001b[0m",
            "\u001b[0;31mNameError\u001b[0m                                 Traceback (most recent call last)",
            "\u001b[0;32m<ipython-input-2-918860d589de>\u001b[0m in \u001b[0;36m<cell line: 0>\u001b[0;34m()\u001b[0m\n\u001b[0;32m----> 1\u001b[0;31m \u001b[0mrimOne_dir\u001b[0m \u001b[0;34m=\u001b[0m \u001b[0mcurrent_dir\u001b[0m \u001b[0;34m+\u001b[0m \u001b[0;34m'/drive/MyDrive/datasets/RIM-ONE_DL_images/partitioned_randomly/'\u001b[0m\u001b[0;34m\u001b[0m\u001b[0;34m\u001b[0m\u001b[0m\n\u001b[0m\u001b[1;32m      2\u001b[0m \u001b[0mtrain_glaucoma_dir\u001b[0m \u001b[0;34m=\u001b[0m \u001b[0mrimOne_dir\u001b[0m \u001b[0;34m+\u001b[0m \u001b[0;34m\"training_set/glaucoma\"\u001b[0m\u001b[0;34m\u001b[0m\u001b[0;34m\u001b[0m\u001b[0m\n\u001b[1;32m      3\u001b[0m \u001b[0mtrain_normal_dir\u001b[0m \u001b[0;34m=\u001b[0m \u001b[0mrimOne_dir\u001b[0m \u001b[0;34m+\u001b[0m \u001b[0;34m\"training_set/normal\"\u001b[0m\u001b[0;34m\u001b[0m\u001b[0;34m\u001b[0m\u001b[0m\n\u001b[1;32m      4\u001b[0m \u001b[0mtest_glaucoma_dir\u001b[0m \u001b[0;34m=\u001b[0m \u001b[0mrimOne_dir\u001b[0m \u001b[0;34m+\u001b[0m \u001b[0;34m\"test_set/glaucoma\"\u001b[0m\u001b[0;34m\u001b[0m\u001b[0;34m\u001b[0m\u001b[0m\n\u001b[1;32m      5\u001b[0m \u001b[0mtest_normal_dir\u001b[0m \u001b[0;34m=\u001b[0m \u001b[0mrimOne_dir\u001b[0m \u001b[0;34m+\u001b[0m \u001b[0;34m\"test_set/normal\"\u001b[0m\u001b[0;34m\u001b[0m\u001b[0;34m\u001b[0m\u001b[0m\n",
            "\u001b[0;31mNameError\u001b[0m: name 'current_dir' is not defined"
          ]
        }
      ]
    },
    {
      "cell_type": "code",
      "source": [
        "print(\"Sample Rim-One glaucoma images:\")\n",
        "plt.subplots(figsize=(15, 10))\n",
        "for i in range(1, 5):\n",
        "    plt.subplot(1, 4, i)\n",
        "    plt.imshow(load_img(f\"{os.path.join(train_glaucoma_dir, rimOne_glaucoma_images[i - 1])}\"))\n",
        "plt.show()\n",
        "\n",
        "print(\"\\nSample Rim-One normal images:\")\n",
        "plt.subplots(figsize=(15, 10))\n",
        "for i in range(1, 5):\n",
        "    plt.subplot(1, 4, i)\n",
        "    plt.imshow(load_img(f\"{os.path.join(train_normal_dir, rimOne_normal_images[i - 1])}\"))\n",
        "plt.show()"
      ],
      "metadata": {
        "id": "mqof8Jf3c0W4"
      },
      "execution_count": null,
      "outputs": []
    },
    {
      "cell_type": "code",
      "source": [
        "acrima_dir = current_dir + \"/drive/MyDrive/datasets/acrima/Database\"\n",
        "glaucoma_dir = acrima_dir + \"/glaucoma\"\n",
        "normal_dir = acrima_dir + \"/normal\"\n",
        "\n",
        "normal_images = os.listdir(normal_dir)\n",
        "glaucoma_images = os.listdir(glaucoma_dir)\n",
        "\n",
        "# Look at the number of samples in each dataset\n",
        "print(\"Acrima dataset contains : \")\n",
        "print(f\"\\t{len(glaucoma_images)} images representing an eye with glaucoma\")\n",
        "print(f\"\\t{len(normal_images)} images representing a normal eye\")"
      ],
      "metadata": {
        "id": "XcmLJjWDc24F"
      },
      "execution_count": null,
      "outputs": []
    },
    {
      "cell_type": "code",
      "source": [
        "print(\"Sample glaucoma images:\")\n",
        "plt.subplots(figsize=(15, 10))\n",
        "for i in range(1, 5):\n",
        "    plt.subplot(1, 4, i)\n",
        "    plt.imshow(load_img(f\"{os.path.join(glaucoma_dir, glaucoma_images[i - 1])}\"))\n",
        "plt.show()\n",
        "\n",
        "print(\"\\nSample normal images:\")\n",
        "plt.subplots(figsize=(15, 10))\n",
        "for i in range(1, 5):\n",
        "    plt.subplot(1, 4, i)\n",
        "    plt.imshow(load_img(f\"{os.path.join(normal_dir, normal_images[i - 1])}\"))\n",
        "plt.show()"
      ],
      "metadata": {
        "id": "ovZe9eQNc5XN"
      },
      "execution_count": null,
      "outputs": []
    },
    {
      "cell_type": "code",
      "source": [
        "exist_ok=True)\n",
        "print(len(os.listdir(n_dest)))os.mkdir('/content/combine')\n",
        "## define your paths for glaucoma####\n",
        "g_path1 = '/content/drive/MyDrive/datasets/acrima/Database/glaucoma'\n",
        "g_path2 = '/content/drive/MyDrive/datasets/RIM-ONE_DL_images/partitioned_randomly/training_set/glaucoma'\n",
        "g_path3 ='/content/drive/MyDrive/datasets/RIM-ONE_DL_images/partitioned_randomly/test_set/glaucoma'\n",
        "g_path4='/content/drive/MyDrive/datasets/Dristhi/Training/Images/GLAUCOMA'\n",
        "g_path5='/content/drive/MyDrive/datasets/Dristhi/Test/Images/glaucoma'\n",
        "g_dest='/content/drive/combine/glaucoma'\n",
        "\n",
        "os.mkdir(g_dest)\n",
        "g_list=[g_path1,g_path2,g_path3,g_path4,g_path5]\n",
        "\n",
        "for i in g_list:\n",
        "  shutil.copytree(i, g_dest, dirs_exist_ok=True)\n",
        "print(len(os.listdir('/content/drive/combine/glaucoma')))\n",
        "\n",
        "##################################################\n",
        "#normal\n",
        "n_path1='/content/drive/MyDrive/datasets/acrima/Database/normal'\n",
        "n_path2='/content/drive/MyDrive/datasets/RIM-ONE_DL_images/partitioned_randomly/training_set/normal'\n",
        "n_path3='/content/drive/MyDrive/datasets/RIM-ONE_DL_images/partitioned_randomly/test_set/normal'\n",
        "n_path4='/content/drive/MyDrive/datasets/Dristhi/Training/Images/NORMAL'\n",
        "n_path5='/content/drive/MyDrive/datasets/Dristhi/Test/Images/normal'\n",
        "n_dest='/content/combine/drive/normal'\n",
        "os.mkdir(n_dest)\n",
        "n_list=[n_path1,n_path2,n_path3,n_path4,n_path5]\n",
        "\n",
        "for i in n_list:\n",
        "  shutil.copytree(i,n_dest, dirs_"
      ],
      "metadata": {
        "id": "z7rZLfOpdC06"
      },
      "execution_count": null,
      "outputs": []
    },
    {
      "cell_type": "code",
      "source": [
        "base_dir = '/content/drive/MyDrive/datasets/combine'\n",
        "base_dir = pathlib.Path(base_dir)\n",
        "\n",
        "glaucoma = [fn for fn in os.listdir(f'/content/drive/MyDrive/datasets/combine/glaucoma/')]\n",
        "normal = [fn for fn in os.listdir(f'/content/drive/MyDrive/datasets/combine/normal')]\n",
        "data=[glaucoma,normal]\n",
        "dataset_classes =['glaucoma','normal']\n",
        "\n",
        "image_count = len(list(base_dir.glob('*/*.jpg')))+len(list(base_dir.glob('*/*.png')))\n",
        "print(f'Total images: {image_count}')\n",
        "print(f'Total number of classes: {len(dataset_classes)}')\n",
        "count = 0\n",
        "data_count = []\n",
        "for x in dataset_classes:\n",
        "  print(f'Total {x} images: {len(data[count])}')\n",
        "  data_count.append(len(data[count]))\n",
        "  count += 1\n",
        "\n",
        "sns.set_style('darkgrid')\n",
        "sns.barplot(x=dataset_classes, y=data_count)\n",
        "plt.show()"
      ],
      "metadata": {
        "id": "xvjQF9bMdE7i"
      },
      "execution_count": null,
      "outputs": []
    },
    {
      "cell_type": "code",
      "source": [
        "!pip install split-folders\n",
        "import splitfolders #to split dataset\n",
        "import pathlib\n",
        "base_ds = '/content/drive/MyDrive/datasets/combine'\n",
        "base_ds = pathlib.Path(base_ds)\n",
        "img_height=256\n",
        "img_width=256\n",
        "batch_size=32\n",
        "splitfolders.ratio(base_ds, output='images', seed=1321, ratio=(.8,.1,.1), group_prefix=None)"
      ],
      "metadata": {
        "id": "FihAgGLmdIEl"
      },
      "execution_count": null,
      "outputs": []
    },
    {
      "cell_type": "code",
      "source": [
        "from keras.preprocessing.image import ImageDataGenerator\n",
        "datagen = ImageDataGenerator(rescale=1./255,\n",
        "shear_range = 0.15,\n",
        "zoom_range = 0.15,\n",
        "horizontal_flip = True)\n",
        "train_ds = datagen.flow_from_directory(\n",
        "    'images/train',\n",
        "    target_size = (img_height, img_width),\n",
        "    batch_size = batch_size,\n",
        "    class_mode='categorical',\n",
        "    shuffle=False)\n",
        "\n",
        "val_ds = datagen.flow_from_directory(\n",
        "    'images/val',\n",
        "    target_size = (img_height, img_width),\n",
        "    batch_size = batch_size,\n",
        "    class_mode='categorical',\n",
        "    shuffle=False)\n",
        "\n",
        "test_ds = datagen.flow_from_directory(\n",
        "    'images/test',\n",
        "    target_size = (img_height, img_width),\n",
        "    batch_size = batch_size,\n",
        "    class_mode='categorical',\n",
        "    shuffle=False)"
      ],
      "metadata": {
        "id": "vW670y8RdKUD"
      },
      "execution_count": null,
      "outputs": []
    },
    {
      "cell_type": "code",
      "source": [
        "from keras.models import Sequential\n",
        "from keras.layers import Conv2D\n",
        "from keras.layers import MaxPooling2D\n",
        "from keras.layers import Flatten\n",
        "from keras.layers import Dense,Dropout\n",
        "from keras.layers import BatchNormalization\n",
        "\n",
        "# Initialising the CNN\n",
        "classifier = Sequential()\n",
        "# Step 1 - Adding Convolution layer\n",
        "classifier.add(Conv2D(32, (3, 3), input_shape = (256,256, 3), activation = 'relu'))\n",
        "\n",
        "# Step 2 - Adding MaxPooling layers\n",
        "classifier.add(MaxPooling2D(pool_size = (2, 2)))\n",
        "# Adding a second convolutional layer\n",
        "classifier.add(Conv2D(32, (3, 3), activation = 'relu'))\n",
        "classifier.add(MaxPooling2D(pool_size = (2, 2)))\n",
        "\n",
        "# Step 3 - Flattening\n",
        "classifier.add(Flatten())\n",
        "\n",
        "# Step 4 - Full connection\n",
        "classifier.add(Dense(units = 512, activation = 'relu'))\n",
        "classifier.add(BatchNormalization()),\n",
        "classifier.add(Dense(256,activation='relu')),\n",
        "classifier.add(Dropout(0.25)),\n",
        "classifier.add(Dense(units = 2, activation = 'softmax'))\n",
        "\n",
        "# Compiling the CNN\n",
        "classifier.compile(optimizer = 'adam', loss = 'categorical_crossentropy', metrics = ['accuracy'])"
      ],
      "metadata": {
        "id": "kfgQ3_ZudNSd"
      },
      "execution_count": null,
      "outputs": []
    },
    {
      "cell_type": "code",
      "source": [
        "classifier.summary()"
      ],
      "metadata": {
        "id": "vPdvHfwAdPVu"
      },
      "execution_count": null,
      "outputs": []
    },
    {
      "cell_type": "code",
      "source": [
        "model_info=classifier.fit(train_ds,\n",
        "steps_per_epoch = int(round(1032/32)),\n",
        "epochs = 150,\n",
        "validation_data = val_ds,\n",
        "validation_steps = int(round(128/32)))"
      ],
      "metadata": {
        "id": "Z38lA__XdRck"
      },
      "execution_count": null,
      "outputs": []
    },
    {
      "cell_type": "code",
      "source": [
        "classifier.save('/content/drive/MyDrive/datasets/combine_model/combine_cnn.h5')"
      ],
      "metadata": {
        "id": "UD9ix6lRdTos"
      },
      "execution_count": null,
      "outputs": []
    },
    {
      "cell_type": "code",
      "source": [
        "def plot_train_history(history):\n",
        "    plt.figure(figsize=(15,5))\n",
        "    plt.subplot(1,2,1)\n",
        "    plt.plot(history.history['accuracy'])\n",
        "    plt.plot(history.history['val_accuracy'])\n",
        "    plt.title('Model accuracy')\n",
        "    plt.ylabel('accuracy')\n",
        "    plt.xlabel('epoch')\n",
        "    plt.legend(['train', 'validation'], loc='upper left')\n",
        "\n",
        "    plt.subplot(1,2,2)\n",
        "    plt.plot(history.history['loss'])\n",
        "    plt.plot(history.history['val_loss'])\n",
        "    plt.title('Model loss')\n",
        "    plt.ylabel('loss')\n",
        "    plt.xlabel('epoch')\n",
        "    plt.legend(['train', 'validation'], loc='upper left')\n",
        "    plt.show()\n",
        "\n",
        "plot_train_history(model_info)"
      ],
      "metadata": {
        "id": "WzhzDAIodVeZ"
      },
      "execution_count": null,
      "outputs": []
    },
    {
      "cell_type": "code",
      "source": [
        "model=load_model('/content/drive/MyDrive/datasets/combine_model/combine_cnn.h5')\n",
        "print(\"Glaucoma detection model loaded\")"
      ],
      "metadata": {
        "id": "lYAV2NL3dXl0"
      },
      "execution_count": null,
      "outputs": []
    },
    {
      "cell_type": "code",
      "source": [
        "def glaucoma_prediction(test_image):\n",
        "  image = img_to_array(test_image)\n",
        "  image = np.expand_dims(image, axis = 0)\n",
        "  result = np.argmax(model.predict(image))\n",
        "  return result"
      ],
      "metadata": {
        "id": "ORLLIXpMdZQk"
      },
      "execution_count": null,
      "outputs": []
    },
    {
      "cell_type": "code",
      "source": [
        "test_image = load_img('/content/drive/MyDrive/datasets/acrima/Database/glaucoma/Im310_g_ACRIMA.jpg', target_size = (256,256))\n",
        "prediction = glaucoma_prediction(test_image)\n",
        "if prediction == 0:\n",
        " print(\"Glaucoma\")\n",
        "else:\n",
        " print(\"Not Glaucoma\")"
      ],
      "metadata": {
        "id": "-BZqkYmCda5i"
      },
      "execution_count": null,
      "outputs": []
    },
    {
      "cell_type": "code",
      "source": [
        "test_image = load_img('/content/drive/MyDrive//datasets/acrima/Database/normal/Im001_ACRIMA.jpg', target_size = (256,256))\n",
        "prediction = glaucoma_prediction(test_image)\n",
        "if prediction == 0:\n",
        " print(\"Glaucoma\")\n",
        "else:\n",
        " print(\"Not Glaucoma\")"
      ],
      "metadata": {
        "id": "eI5QBE92dc8i"
      },
      "execution_count": null,
      "outputs": []
    },
    {
      "cell_type": "code",
      "source": [
        "score=model.evaluate(test_ds)\n",
        "print(\"Loss:\",score[0],\"Accuracy:\",score[1])"
      ],
      "metadata": {
        "id": "-to1lA4sdfOc"
      },
      "execution_count": null,
      "outputs": []
    },
    {
      "cell_type": "code",
      "source": [
        "from sklearn.metrics import classification_report,confusion_matrix\n",
        "import seaborn as sb"
      ],
      "metadata": {
        "id": "cP6byQt1dg30"
      },
      "execution_count": null,
      "outputs": []
    },
    {
      "cell_type": "code",
      "source": [
        "pred= np.round(model.predict(test_ds, verbose=1))\n",
        "test_labels=test_ds.labels\n",
        "test_pred_labels=[]\n",
        "for i in range(len(pred)):\n",
        "  test_pred_labels.append(np.argmax(pred[i]))\n",
        "conf_matrix= confusion_matrix(test_pred_labels,test_labels)\n",
        "print (conf_matrix)"
      ],
      "metadata": {
        "id": "brxsZC5Cdie9"
      },
      "execution_count": null,
      "outputs": []
    },
    {
      "cell_type": "code",
      "source": [
        "sb.heatmap(conf_matrix,cmap='Purples', annot=True,xticklabels=['glaucoma','normal'],yticklabels=['glaucoma','normal'],linewidths=1,\n",
        "                linecolor='green').plot()\n",
        "plt.show()"
      ],
      "metadata": {
        "id": "Lv5DX3Dvdkb7"
      },
      "execution_count": null,
      "outputs": []
    },
    {
      "cell_type": "code",
      "source": [
        "test_report = classification_report(test_ds.labels,test_pred_labels, target_names=['glaucoma','normal'], output_dict=True)\n",
        "test_df = pd.DataFrame(test_report).transpose()\n",
        "test_df"
      ],
      "metadata": {
        "id": "tqz3rBywdmKJ"
      },
      "execution_count": null,
      "outputs": []
    }
  ]
}